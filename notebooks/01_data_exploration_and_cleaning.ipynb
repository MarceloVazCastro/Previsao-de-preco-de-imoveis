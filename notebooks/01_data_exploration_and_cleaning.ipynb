{
 "cells": [
  {
   "cell_type": "markdown",
   "id": "3e6651d5",
   "metadata": {},
   "source": [
    "# 1.1 Importações"
   ]
  },
  {
   "cell_type": "code",
   "execution_count": 1,
   "id": "d48e3cff",
   "metadata": {},
   "outputs": [],
   "source": [
    "import pandas as pd"
   ]
  },
  {
   "cell_type": "markdown",
   "id": "2553d778",
   "metadata": {},
   "source": [
    "# 1.2.1 Leitura de dados"
   ]
  },
  {
   "cell_type": "code",
   "execution_count": null,
   "id": "f0ebbe22",
   "metadata": {},
   "outputs": [
    {
     "name": "stdout",
     "output_type": "stream",
     "text": [
      "<class 'pandas.core.frame.DataFrame'>\n",
      "RangeIndex: 100 entries, 0 to 99\n",
      "Data columns (total 11 columns):\n",
      " #   Column             Non-Null Count  Dtype  \n",
      "---  ------             --------------  -----  \n",
      " 0   ID                 100 non-null    int64  \n",
      " 1   Area (m2)          100 non-null    int64  \n",
      " 2   Quartos            99 non-null     float64\n",
      " 3   Banheiros          100 non-null    int64  \n",
      " 4   Vagas de Garagem   100 non-null    int64  \n",
      " 5   Bairro             100 non-null    object \n",
      " 6   Andar              69 non-null     float64\n",
      " 7   Preco (R$)         100 non-null    int64  \n",
      " 8   Tipo de Imovel     100 non-null    object \n",
      " 9   Ano de Construcao  100 non-null    int64  \n",
      " 10  Observacoes        10 non-null     object \n",
      "dtypes: float64(2), int64(6), object(3)\n",
      "memory usage: 8.7+ KB\n"
     ]
    }
   ],
   "source": [
    "df = pd.read_csv('../data/raw/imoveis_bh.csv')\n",
    "df.info()"
   ]
  },
  {
   "cell_type": "markdown",
   "id": "dbf0e2f7",
   "metadata": {},
   "source": [
    "# 1.2.2 Renomeando as colunas"
   ]
  },
  {
   "cell_type": "code",
   "execution_count": 4,
   "id": "52468a65",
   "metadata": {},
   "outputs": [
    {
     "name": "stdout",
     "output_type": "stream",
     "text": [
      "<class 'pandas.core.frame.DataFrame'>\n",
      "RangeIndex: 100 entries, 0 to 99\n",
      "Data columns (total 11 columns):\n",
      " #   Column          Non-Null Count  Dtype  \n",
      "---  ------          --------------  -----  \n",
      " 0   id              100 non-null    int64  \n",
      " 1   area_m2         100 non-null    int64  \n",
      " 2   quartos         99 non-null     float64\n",
      " 3   banheiros       100 non-null    int64  \n",
      " 4   vagas_garagem   100 non-null    int64  \n",
      " 5   bairro          100 non-null    object \n",
      " 6   andar           69 non-null     float64\n",
      " 7   preco           100 non-null    int64  \n",
      " 8   tipo_imovel     100 non-null    object \n",
      " 9   ano_construcao  100 non-null    int64  \n",
      " 10  observacoes     10 non-null     object \n",
      "dtypes: float64(2), int64(6), object(3)\n",
      "memory usage: 8.7+ KB\n"
     ]
    }
   ],
   "source": [
    "df.rename(columns={ \n",
    "    'ID': 'id',\n",
    "    'Area (m2)' : 'area_m2',\n",
    "    'Quartos' : 'quartos',\n",
    "    'Banheiros' : 'banheiros',\n",
    "    'Vagas de Garagem' : 'vagas_garagem',\n",
    "    'Bairro' : 'bairro',\n",
    "    'Andar' : 'andar',\n",
    "    'Preco (R$)' : 'preco',\n",
    "    'Tipo de Imovel' : 'tipo_imovel',\n",
    "    'Ano de Construcao' : 'ano_construcao',\n",
    "    'Observacoes' : 'observacoes'\n",
    "}, inplace=True)\n",
    "\n",
    "df.info()"
   ]
  },
  {
   "cell_type": "markdown",
   "id": "1a1790bb",
   "metadata": {},
   "source": [
    "# 1.3 Análise Estática Descritiva"
   ]
  },
  {
   "cell_type": "code",
   "execution_count": null,
   "id": "248fb8da",
   "metadata": {},
   "outputs": [],
   "source": [
    "medianaArea = df['area_m2'].median()\n",
    "mediaArea = df['area_m2'].mean()\n",
    "desvioArea = df['area_m2'].std()\n"
   ]
  }
 ],
 "metadata": {
  "kernelspec": {
   "display_name": "venv (3.12.8)",
   "language": "python",
   "name": "python3"
  },
  "language_info": {
   "codemirror_mode": {
    "name": "ipython",
    "version": 3
   },
   "file_extension": ".py",
   "mimetype": "text/x-python",
   "name": "python",
   "nbconvert_exporter": "python",
   "pygments_lexer": "ipython3",
   "version": "3.12.8"
  }
 },
 "nbformat": 4,
 "nbformat_minor": 5
}
