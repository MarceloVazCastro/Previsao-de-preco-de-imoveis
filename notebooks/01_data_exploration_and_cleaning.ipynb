{
 "cells": [
  {
   "cell_type": "markdown",
   "id": "3e6651d5",
   "metadata": {},
   "source": [
    "# 1.1 Importações"
   ]
  },
  {
   "cell_type": "code",
   "execution_count": 2,
   "id": "d48e3cff",
   "metadata": {},
   "outputs": [],
   "source": [
    "import pandas as pd"
   ]
  },
  {
   "cell_type": "markdown",
   "id": "2553d778",
   "metadata": {},
   "source": [
    "# 1.2.1 Leitura de dados"
   ]
  },
  {
   "cell_type": "code",
   "execution_count": 3,
   "id": "f0ebbe22",
   "metadata": {},
   "outputs": [
    {
     "name": "stdout",
     "output_type": "stream",
     "text": [
      "<class 'pandas.core.frame.DataFrame'>\n",
      "RangeIndex: 100 entries, 0 to 99\n",
      "Data columns (total 11 columns):\n",
      " #   Column             Non-Null Count  Dtype  \n",
      "---  ------             --------------  -----  \n",
      " 0   ID                 100 non-null    int64  \n",
      " 1   Area (m2)          100 non-null    int64  \n",
      " 2   Quartos            99 non-null     float64\n",
      " 3   Banheiros          100 non-null    int64  \n",
      " 4   Vagas de Garagem   100 non-null    int64  \n",
      " 5   Bairro             100 non-null    object \n",
      " 6   Andar              69 non-null     float64\n",
      " 7   Preco (R$)         100 non-null    int64  \n",
      " 8   Tipo de Imovel     100 non-null    object \n",
      " 9   Ano de Construcao  100 non-null    int64  \n",
      " 10  Observacoes        10 non-null     object \n",
      "dtypes: float64(2), int64(6), object(3)\n",
      "memory usage: 8.7+ KB\n"
     ]
    }
   ],
   "source": [
    "df = pd.read_csv('../data/raw/imoveis_bh.csv')\n",
    "df.info()"
   ]
  },
  {
   "cell_type": "markdown",
   "id": "dbf0e2f7",
   "metadata": {},
   "source": [
    "# 1.2.2 Renomeando as colunas"
   ]
  },
  {
   "cell_type": "code",
   "execution_count": 4,
   "id": "52468a65",
   "metadata": {},
   "outputs": [
    {
     "name": "stdout",
     "output_type": "stream",
     "text": [
      "<class 'pandas.core.frame.DataFrame'>\n",
      "RangeIndex: 100 entries, 0 to 99\n",
      "Data columns (total 11 columns):\n",
      " #   Column          Non-Null Count  Dtype  \n",
      "---  ------          --------------  -----  \n",
      " 0   id              100 non-null    int64  \n",
      " 1   area_m2         100 non-null    int64  \n",
      " 2   quartos         99 non-null     float64\n",
      " 3   banheiros       100 non-null    int64  \n",
      " 4   vagas_garagem   100 non-null    int64  \n",
      " 5   bairro          100 non-null    object \n",
      " 6   andar           69 non-null     float64\n",
      " 7   preco           100 non-null    int64  \n",
      " 8   tipo_imovel     100 non-null    object \n",
      " 9   ano_construcao  100 non-null    int64  \n",
      " 10  observacoes     10 non-null     object \n",
      "dtypes: float64(2), int64(6), object(3)\n",
      "memory usage: 8.7+ KB\n"
     ]
    }
   ],
   "source": [
    "df.rename(columns={ \n",
    "    'ID': 'id',\n",
    "    'Area (m2)' : 'area_m2',\n",
    "    'Quartos' : 'quartos',\n",
    "    'Banheiros' : 'banheiros',\n",
    "    'Vagas de Garagem' : 'vagas_garagem',\n",
    "    'Bairro' : 'bairro',\n",
    "    'Andar' : 'andar',\n",
    "    'Preco (R$)' : 'preco',\n",
    "    'Tipo de Imovel' : 'tipo_imovel',\n",
    "    'Ano de Construcao' : 'ano_construcao',\n",
    "    'Observacoes' : 'observacoes'\n",
    "}, inplace=True)\n",
    "\n",
    "df.info()"
   ]
  },
  {
   "cell_type": "markdown",
   "id": "1a1790bb",
   "metadata": {},
   "source": [
    "# 1.3 Análise Estática Descritiva"
   ]
  },
  {
   "cell_type": "code",
   "execution_count": 5,
   "id": "3c46fe05",
   "metadata": {},
   "outputs": [
    {
     "data": {
      "text/html": [
       "<div>\n",
       "<style scoped>\n",
       "    .dataframe tbody tr th:only-of-type {\n",
       "        vertical-align: middle;\n",
       "    }\n",
       "\n",
       "    .dataframe tbody tr th {\n",
       "        vertical-align: top;\n",
       "    }\n",
       "\n",
       "    .dataframe thead th {\n",
       "        text-align: right;\n",
       "    }\n",
       "</style>\n",
       "<table border=\"1\" class=\"dataframe\">\n",
       "  <thead>\n",
       "    <tr style=\"text-align: right;\">\n",
       "      <th></th>\n",
       "      <th>id</th>\n",
       "      <th>area_m2</th>\n",
       "      <th>quartos</th>\n",
       "      <th>banheiros</th>\n",
       "      <th>vagas_garagem</th>\n",
       "      <th>andar</th>\n",
       "      <th>preco</th>\n",
       "      <th>ano_construcao</th>\n",
       "    </tr>\n",
       "  </thead>\n",
       "  <tbody>\n",
       "    <tr>\n",
       "      <th>count</th>\n",
       "      <td>100.000000</td>\n",
       "      <td>100.000000</td>\n",
       "      <td>99.000000</td>\n",
       "      <td>100.00000</td>\n",
       "      <td>100.000000</td>\n",
       "      <td>69.000000</td>\n",
       "      <td>1.000000e+02</td>\n",
       "      <td>100.000000</td>\n",
       "    </tr>\n",
       "    <tr>\n",
       "      <th>mean</th>\n",
       "      <td>50.500000</td>\n",
       "      <td>181.960000</td>\n",
       "      <td>3.494949</td>\n",
       "      <td>2.96000</td>\n",
       "      <td>2.170000</td>\n",
       "      <td>5.420290</td>\n",
       "      <td>1.980300e+06</td>\n",
       "      <td>2011.230000</td>\n",
       "    </tr>\n",
       "    <tr>\n",
       "      <th>std</th>\n",
       "      <td>29.011492</td>\n",
       "      <td>105.657434</td>\n",
       "      <td>1.319970</td>\n",
       "      <td>1.49017</td>\n",
       "      <td>1.310833</td>\n",
       "      <td>2.625698</td>\n",
       "      <td>1.533718e+06</td>\n",
       "      <td>6.422585</td>\n",
       "    </tr>\n",
       "    <tr>\n",
       "      <th>min</th>\n",
       "      <td>1.000000</td>\n",
       "      <td>55.000000</td>\n",
       "      <td>1.000000</td>\n",
       "      <td>1.00000</td>\n",
       "      <td>0.000000</td>\n",
       "      <td>1.000000</td>\n",
       "      <td>4.000000e+05</td>\n",
       "      <td>1990.000000</td>\n",
       "    </tr>\n",
       "    <tr>\n",
       "      <th>25%</th>\n",
       "      <td>25.750000</td>\n",
       "      <td>95.000000</td>\n",
       "      <td>2.000000</td>\n",
       "      <td>2.00000</td>\n",
       "      <td>1.000000</td>\n",
       "      <td>3.000000</td>\n",
       "      <td>8.500000e+05</td>\n",
       "      <td>2007.000000</td>\n",
       "    </tr>\n",
       "    <tr>\n",
       "      <th>50%</th>\n",
       "      <td>50.500000</td>\n",
       "      <td>150.000000</td>\n",
       "      <td>3.000000</td>\n",
       "      <td>3.00000</td>\n",
       "      <td>2.000000</td>\n",
       "      <td>5.000000</td>\n",
       "      <td>1.425000e+06</td>\n",
       "      <td>2012.000000</td>\n",
       "    </tr>\n",
       "    <tr>\n",
       "      <th>75%</th>\n",
       "      <td>75.250000</td>\n",
       "      <td>251.250000</td>\n",
       "      <td>4.000000</td>\n",
       "      <td>4.00000</td>\n",
       "      <td>3.000000</td>\n",
       "      <td>7.000000</td>\n",
       "      <td>2.712500e+06</td>\n",
       "      <td>2017.000000</td>\n",
       "    </tr>\n",
       "    <tr>\n",
       "      <th>max</th>\n",
       "      <td>100.000000</td>\n",
       "      <td>450.000000</td>\n",
       "      <td>7.000000</td>\n",
       "      <td>7.00000</td>\n",
       "      <td>6.000000</td>\n",
       "      <td>12.000000</td>\n",
       "      <td>9.500000e+06</td>\n",
       "      <td>2020.000000</td>\n",
       "    </tr>\n",
       "  </tbody>\n",
       "</table>\n",
       "</div>"
      ],
      "text/plain": [
       "               id     area_m2    quartos  banheiros  vagas_garagem      andar  \\\n",
       "count  100.000000  100.000000  99.000000  100.00000     100.000000  69.000000   \n",
       "mean    50.500000  181.960000   3.494949    2.96000       2.170000   5.420290   \n",
       "std     29.011492  105.657434   1.319970    1.49017       1.310833   2.625698   \n",
       "min      1.000000   55.000000   1.000000    1.00000       0.000000   1.000000   \n",
       "25%     25.750000   95.000000   2.000000    2.00000       1.000000   3.000000   \n",
       "50%     50.500000  150.000000   3.000000    3.00000       2.000000   5.000000   \n",
       "75%     75.250000  251.250000   4.000000    4.00000       3.000000   7.000000   \n",
       "max    100.000000  450.000000   7.000000    7.00000       6.000000  12.000000   \n",
       "\n",
       "              preco  ano_construcao  \n",
       "count  1.000000e+02      100.000000  \n",
       "mean   1.980300e+06     2011.230000  \n",
       "std    1.533718e+06        6.422585  \n",
       "min    4.000000e+05     1990.000000  \n",
       "25%    8.500000e+05     2007.000000  \n",
       "50%    1.425000e+06     2012.000000  \n",
       "75%    2.712500e+06     2017.000000  \n",
       "max    9.500000e+06     2020.000000  "
      ]
     },
     "execution_count": 5,
     "metadata": {},
     "output_type": "execute_result"
    }
   ],
   "source": [
    "df.describe()"
   ]
  },
  {
   "cell_type": "markdown",
   "id": "4a0e24e6",
   "metadata": {},
   "source": [
    "# 1.4 Tratamento de dados nulos"
   ]
  },
  {
   "cell_type": "code",
   "execution_count": 6,
   "id": "ce918870",
   "metadata": {},
   "outputs": [
    {
     "data": {
      "text/plain": [
       "id                 0\n",
       "area_m2            0\n",
       "quartos            1\n",
       "banheiros          0\n",
       "vagas_garagem      0\n",
       "bairro             0\n",
       "andar             31\n",
       "preco              0\n",
       "tipo_imovel        0\n",
       "ano_construcao     0\n",
       "observacoes       90\n",
       "dtype: int64"
      ]
     },
     "execution_count": 6,
     "metadata": {},
     "output_type": "execute_result"
    }
   ],
   "source": [
    "df.isnull().sum()"
   ]
  },
  {
   "cell_type": "code",
   "execution_count": 7,
   "id": "d4614922",
   "metadata": {},
   "outputs": [],
   "source": [
    "df = df.drop('observacoes', axis=1)"
   ]
  },
  {
   "cell_type": "code",
   "execution_count": 8,
   "id": "c762eaad",
   "metadata": {},
   "outputs": [
    {
     "name": "stderr",
     "output_type": "stream",
     "text": [
      "C:\\Users\\mtand\\AppData\\Local\\Temp\\ipykernel_20868\\983033095.py:2: FutureWarning: A value is trying to be set on a copy of a DataFrame or Series through chained assignment using an inplace method.\n",
      "The behavior will change in pandas 3.0. This inplace method will never work because the intermediate object on which we are setting values always behaves as a copy.\n",
      "\n",
      "For example, when doing 'df[col].method(value, inplace=True)', try using 'df.method({col: value}, inplace=True)' or df[col] = df[col].method(value) instead, to perform the operation inplace on the original object.\n",
      "\n",
      "\n",
      "  df['quartos'].fillna(mediana_quartos, inplace=True)\n",
      "C:\\Users\\mtand\\AppData\\Local\\Temp\\ipykernel_20868\\983033095.py:4: FutureWarning: A value is trying to be set on a copy of a DataFrame or Series through chained assignment using an inplace method.\n",
      "The behavior will change in pandas 3.0. This inplace method will never work because the intermediate object on which we are setting values always behaves as a copy.\n",
      "\n",
      "For example, when doing 'df[col].method(value, inplace=True)', try using 'df.method({col: value}, inplace=True)' or df[col] = df[col].method(value) instead, to perform the operation inplace on the original object.\n",
      "\n",
      "\n",
      "  df['andar'].fillna(0, inplace=True)\n"
     ]
    }
   ],
   "source": [
    "mediana_quartos = df['quartos'].median()\n",
    "df['quartos'].fillna(mediana_quartos, inplace=True)\n",
    "\n",
    "df['andar'].fillna(0, inplace=True)"
   ]
  },
  {
   "cell_type": "markdown",
   "id": "6ff06a97",
   "metadata": {},
   "source": [
    "# 1.5 Transformando float em inteiros"
   ]
  },
  {
   "cell_type": "code",
   "execution_count": 9,
   "id": "a148eda4",
   "metadata": {},
   "outputs": [],
   "source": [
    "df['quartos'] = df['quartos'].astype(int)\n",
    "df['andar'] = df['andar'].astype(int)"
   ]
  },
  {
   "cell_type": "markdown",
   "id": "f65efc66",
   "metadata": {},
   "source": [
    "# 1.6 Tratamento de outliers"
   ]
  },
  {
   "cell_type": "code",
   "execution_count": 10,
   "id": "c906fc9c",
   "metadata": {},
   "outputs": [
    {
     "data": {
      "image/png": "[encoded data removed]",
      "text/plain": [
       "<Figure size 1000x600 with 1 Axes>"
      ]
     },
     "metadata": {},
     "output_type": "display_data"
    }
   ],
   "source": [
    "import matplotlib.pyplot as plt\n",
    "import seaborn as sns\n",
    "\n",
    "plt.figure(figsize=(10, 6))\n",
    "sns.scatterplot(data=df, x='area_m2', y='preco')\n",
    "plt.title('Dispersão de Preço por Área (com Outlier)')\n",
    "plt.show()"
   ]
  },
  {
   "cell_type": "code",
   "execution_count": 11,
   "id": "d17203b0",
   "metadata": {},
   "outputs": [],
   "source": [
    "df = df[df['preco'] < 9500000]"
   ]
  },
  {
   "cell_type": "code",
   "execution_count": 12,
   "id": "488e8cfb",
   "metadata": {},
   "outputs": [
    {
     "data": {
      "image/png": "[encoded data removed]",
      "text/plain": [
       "<Figure size 1000x600 with 1 Axes>"
      ]
     },
     "metadata": {},
     "output_type": "display_data"
    }
   ],
   "source": [
    "df.isnull().sum()\n",
    "\n",
    "df.describe()\n",
    "\n",
    "plt.figure(figsize=(10, 6))\n",
    "sns.scatterplot(data=df, x='area_m2', y='preco')\n",
    "plt.title('Dispersão de Preço por Área (Outlier Removido)')\n",
    "plt.show()"
   ]
  },
  {
   "cell_type": "markdown",
   "id": "cb1a5f29",
   "metadata": {},
   "source": [
    "# 1.7 Verificação final"
   ]
  },
  {
   "cell_type": "code",
   "execution_count": 13,
   "id": "a1479d4d",
   "metadata": {},
   "outputs": [
    {
     "name": "stdout",
     "output_type": "stream",
     "text": [
      "<class 'pandas.core.frame.DataFrame'>\n",
      "Index: 99 entries, 0 to 99\n",
      "Data columns (total 10 columns):\n",
      " #   Column          Non-Null Count  Dtype \n",
      "---  ------          --------------  ----- \n",
      " 0   id              99 non-null     int64 \n",
      " 1   area_m2         99 non-null     int64 \n",
      " 2   quartos         99 non-null     int64 \n",
      " 3   banheiros       99 non-null     int64 \n",
      " 4   vagas_garagem   99 non-null     int64 \n",
      " 5   bairro          99 non-null     object\n",
      " 6   andar           99 non-null     int64 \n",
      " 7   preco           99 non-null     int64 \n",
      " 8   tipo_imovel     99 non-null     object\n",
      " 9   ano_construcao  99 non-null     int64 \n",
      "dtypes: int64(8), object(2)\n",
      "memory usage: 8.5+ KB\n"
     ]
    },
    {
     "data": {
      "text/html": [
       "<div>\n",
       "<style scoped>\n",
       "    .dataframe tbody tr th:only-of-type {\n",
       "        vertical-align: middle;\n",
       "    }\n",
       "\n",
       "    .dataframe tbody tr th {\n",
       "        vertical-align: top;\n",
       "    }\n",
       "\n",
       "    .dataframe thead th {\n",
       "        text-align: right;\n",
       "    }\n",
       "</style>\n",
       "<table border=\"1\" class=\"dataframe\">\n",
       "  <thead>\n",
       "    <tr style=\"text-align: right;\">\n",
       "      <th></th>\n",
       "      <th>id</th>\n",
       "      <th>area_m2</th>\n",
       "      <th>quartos</th>\n",
       "      <th>banheiros</th>\n",
       "      <th>vagas_garagem</th>\n",
       "      <th>andar</th>\n",
       "      <th>preco</th>\n",
       "      <th>ano_construcao</th>\n",
       "    </tr>\n",
       "  </thead>\n",
       "  <tbody>\n",
       "    <tr>\n",
       "      <th>count</th>\n",
       "      <td>99.000000</td>\n",
       "      <td>99.000000</td>\n",
       "      <td>99.000000</td>\n",
       "      <td>99.000000</td>\n",
       "      <td>99.000000</td>\n",
       "      <td>99.000000</td>\n",
       "      <td>9.900000e+01</td>\n",
       "      <td>99.000000</td>\n",
       "    </tr>\n",
       "    <tr>\n",
       "      <th>mean</th>\n",
       "      <td>50.888889</td>\n",
       "      <td>182.686869</td>\n",
       "      <td>3.494949</td>\n",
       "      <td>2.969697</td>\n",
       "      <td>2.181818</td>\n",
       "      <td>3.767677</td>\n",
       "      <td>1.904343e+06</td>\n",
       "      <td>2011.151515</td>\n",
       "    </tr>\n",
       "    <tr>\n",
       "      <th>std</th>\n",
       "      <td>28.895974</td>\n",
       "      <td>105.943540</td>\n",
       "      <td>1.319970</td>\n",
       "      <td>1.494579</td>\n",
       "      <td>1.312138</td>\n",
       "      <td>3.334508</td>\n",
       "      <td>1.339203e+06</td>\n",
       "      <td>6.406890</td>\n",
       "    </tr>\n",
       "    <tr>\n",
       "      <th>min</th>\n",
       "      <td>1.000000</td>\n",
       "      <td>55.000000</td>\n",
       "      <td>1.000000</td>\n",
       "      <td>1.000000</td>\n",
       "      <td>0.000000</td>\n",
       "      <td>0.000000</td>\n",
       "      <td>4.000000e+05</td>\n",
       "      <td>1990.000000</td>\n",
       "    </tr>\n",
       "    <tr>\n",
       "      <th>25%</th>\n",
       "      <td>26.500000</td>\n",
       "      <td>95.000000</td>\n",
       "      <td>2.000000</td>\n",
       "      <td>2.000000</td>\n",
       "      <td>1.000000</td>\n",
       "      <td>0.000000</td>\n",
       "      <td>8.500000e+05</td>\n",
       "      <td>2007.000000</td>\n",
       "    </tr>\n",
       "    <tr>\n",
       "      <th>50%</th>\n",
       "      <td>51.000000</td>\n",
       "      <td>150.000000</td>\n",
       "      <td>3.000000</td>\n",
       "      <td>3.000000</td>\n",
       "      <td>2.000000</td>\n",
       "      <td>4.000000</td>\n",
       "      <td>1.400000e+06</td>\n",
       "      <td>2012.000000</td>\n",
       "    </tr>\n",
       "    <tr>\n",
       "      <th>75%</th>\n",
       "      <td>75.500000</td>\n",
       "      <td>252.500000</td>\n",
       "      <td>4.000000</td>\n",
       "      <td>4.000000</td>\n",
       "      <td>3.000000</td>\n",
       "      <td>6.000000</td>\n",
       "      <td>2.600000e+06</td>\n",
       "      <td>2016.500000</td>\n",
       "    </tr>\n",
       "    <tr>\n",
       "      <th>max</th>\n",
       "      <td>100.000000</td>\n",
       "      <td>450.000000</td>\n",
       "      <td>7.000000</td>\n",
       "      <td>7.000000</td>\n",
       "      <td>6.000000</td>\n",
       "      <td>12.000000</td>\n",
       "      <td>5.500000e+06</td>\n",
       "      <td>2020.000000</td>\n",
       "    </tr>\n",
       "  </tbody>\n",
       "</table>\n",
       "</div>"
      ],
      "text/plain": [
       "               id     area_m2    quartos  banheiros  vagas_garagem      andar  \\\n",
       "count   99.000000   99.000000  99.000000  99.000000      99.000000  99.000000   \n",
       "mean    50.888889  182.686869   3.494949   2.969697       2.181818   3.767677   \n",
       "std     28.895974  105.943540   1.319970   1.494579       1.312138   3.334508   \n",
       "min      1.000000   55.000000   1.000000   1.000000       0.000000   0.000000   \n",
       "25%     26.500000   95.000000   2.000000   2.000000       1.000000   0.000000   \n",
       "50%     51.000000  150.000000   3.000000   3.000000       2.000000   4.000000   \n",
       "75%     75.500000  252.500000   4.000000   4.000000       3.000000   6.000000   \n",
       "max    100.000000  450.000000   7.000000   7.000000       6.000000  12.000000   \n",
       "\n",
       "              preco  ano_construcao  \n",
       "count  9.900000e+01       99.000000  \n",
       "mean   1.904343e+06     2011.151515  \n",
       "std    1.339203e+06        6.406890  \n",
       "min    4.000000e+05     1990.000000  \n",
       "25%    8.500000e+05     2007.000000  \n",
       "50%    1.400000e+06     2012.000000  \n",
       "75%    2.600000e+06     2016.500000  \n",
       "max    5.500000e+06     2020.000000  "
      ]
     },
     "execution_count": 13,
     "metadata": {},
     "output_type": "execute_result"
    }
   ],
   "source": [
    "df.info()\n",
    "df.describe()"
   ]
  },
  {
   "cell_type": "markdown",
   "id": "1d43dc5e",
   "metadata": {},
   "source": [
    "# 1.8 Exportando como csv os dados limpos"
   ]
  },
  {
   "cell_type": "code",
   "execution_count": 14,
   "id": "c573c9e3",
   "metadata": {},
   "outputs": [],
   "source": [
    "df.to_csv('../data/processed/imoveis_bh_cleaned.csv', index=False)"
   ]
  }
 ],
 "metadata": {
  "kernelspec": {
   "display_name": "venv (3.12.8)",
   "language": "python",
   "name": "python3"
  },
  "language_info": {
   "codemirror_mode": {
    "name": "ipython",
    "version": 3
   },
   "file_extension": ".py",
   "mimetype": "text/x-python",
   "name": "python",
   "nbconvert_exporter": "python",
   "pygments_lexer": "ipython3",
   "version": "3.12.8"
  }
 },
 "nbformat": 4,
 "nbformat_minor": 5
}
